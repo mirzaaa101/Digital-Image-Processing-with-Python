{
 "cells": [
  {
   "cell_type": "code",
   "execution_count": 1,
   "id": "ee521da5",
   "metadata": {},
   "outputs": [],
   "source": [
    "import os\n",
    "import shutil"
   ]
  },
  {
   "cell_type": "code",
   "execution_count": 9,
   "id": "f881fdd7",
   "metadata": {},
   "outputs": [],
   "source": [
    "w_folder_path = r\"C:\\Users\\User\\ML\\Digital-Image-Processing-with-Python\\demo_data\\w\"\n",
    "nw_folder_path = r\"C:\\Users\\User\\ML\\Digital-Image-Processing-with-Python\\demo_data\\nw\"\n",
    "\n",
    "output_folder = r\"C:\\Users\\User\\ML\\Digital-Image-Processing-with-Python\\demo_data\\output\"\n",
    "# Create output folder if it doesn't exist\n",
    "os.makedirs(output_folder, exist_ok=True)"
   ]
  },
  {
   "cell_type": "code",
   "execution_count": 10,
   "id": "ae3f3b9c",
   "metadata": {},
   "outputs": [],
   "source": [
    "# Create a list of image file names in the 'w' folder\n",
    "w_image_files = [f for f in os.listdir(w_folder_path) if os.path.isfile(os.path.join(w_folder_path, f))]\n",
    "\n",
    "# Create a list of image file names in the 'nw' folder\n",
    "nw_image_files = [f for f in os.listdir(nw_folder_path) if os.path.isfile(os.path.join(nw_folder_path, f))]"
   ]
  },
  {
   "cell_type": "code",
   "execution_count": 11,
   "id": "782e0734",
   "metadata": {},
   "outputs": [],
   "source": [
    "# Sort the file names to ensure consistent naming\n",
    "w_image_files.sort()\n",
    "nw_image_files.sort()"
   ]
  },
  {
   "cell_type": "code",
   "execution_count": 12,
   "id": "e9f2b1f6",
   "metadata": {},
   "outputs": [
    {
     "data": {
      "text/plain": [
       "['1.jpg',\n",
       " '10.jpg',\n",
       " '14.jpg',\n",
       " '18.jpg',\n",
       " '2.jpg',\n",
       " '3.jpg',\n",
       " '4.jpg',\n",
       " '5.jpg',\n",
       " '6.jpg',\n",
       " '7.jpg',\n",
       " '8.jpg',\n",
       " '9.jpg']"
      ]
     },
     "execution_count": 12,
     "metadata": {},
     "output_type": "execute_result"
    }
   ],
   "source": [
    "w_image_files"
   ]
  },
  {
   "cell_type": "code",
   "execution_count": 13,
   "id": "291e4996",
   "metadata": {},
   "outputs": [],
   "source": [
    "# Rename and copy images from the 'w' folder\n",
    "for i, filename in enumerate(w_image_files):\n",
    "    new_filename = f'w{i+1}' + os.path.splitext(filename)[1]\n",
    "    old_filepath = os.path.join(w_folder_path, filename)\n",
    "    new_filepath = os.path.join(output_folder, new_filename)\n",
    "    shutil.copy(old_filepath, new_filepath)"
   ]
  },
  {
   "cell_type": "code",
   "execution_count": 14,
   "id": "8c0f2f4f",
   "metadata": {},
   "outputs": [],
   "source": [
    "# Rename and copy images from the 'nw' folder\n",
    "for i, filename in enumerate(nw_image_files):\n",
    "    new_filename = f'nw{i+1}' + os.path.splitext(filename)[1]  # Corrected to 'nw'\n",
    "    old_filepath = os.path.join(nw_folder_path, filename)\n",
    "    new_filepath = os.path.join(output_folder, new_filename)\n",
    "    shutil.copy(old_filepath, new_filepath)"
   ]
  }
 ],
 "metadata": {
  "kernelspec": {
   "display_name": "Python 3 (ipykernel)",
   "language": "python",
   "name": "python3"
  },
  "language_info": {
   "codemirror_mode": {
    "name": "ipython",
    "version": 3
   },
   "file_extension": ".py",
   "mimetype": "text/x-python",
   "name": "python",
   "nbconvert_exporter": "python",
   "pygments_lexer": "ipython3",
   "version": "3.9.13"
  }
 },
 "nbformat": 4,
 "nbformat_minor": 5
}
